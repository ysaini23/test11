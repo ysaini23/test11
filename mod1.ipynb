{
 "cells": [
  {
   "cell_type": "markdown",
   "id": "09ef74e8",
   "metadata": {},
   "source": [
    "# List"
   ]
  },
  {
   "cell_type": "code",
   "execution_count": 1,
   "id": "9466ea2b",
   "metadata": {},
   "outputs": [],
   "source": [
    "# 1,method \n",
    "list1=[]\n"
   ]
  },
  {
   "cell_type": "code",
   "execution_count": 2,
   "id": "0c442397",
   "metadata": {},
   "outputs": [
    {
     "name": "stdout",
     "output_type": "stream",
     "text": [
      "[]\n"
     ]
    }
   ],
   "source": [
    "print(list1)"
   ]
  },
  {
   "cell_type": "code",
   "execution_count": 4,
   "id": "0bd09de3",
   "metadata": {},
   "outputs": [],
   "source": [
    "# 2method\n",
    "l = list()"
   ]
  },
  {
   "cell_type": "code",
   "execution_count": 5,
   "id": "843cc0cc",
   "metadata": {},
   "outputs": [
    {
     "name": "stdout",
     "output_type": "stream",
     "text": [
      "[]\n"
     ]
    }
   ],
   "source": [
    "print(l)"
   ]
  },
  {
   "cell_type": "code",
   "execution_count": 6,
   "id": "efd22a8a",
   "metadata": {},
   "outputs": [
    {
     "name": "stdout",
     "output_type": "stream",
     "text": [
      "[1, 2, 3, 4, 5]\n"
     ]
    }
   ],
   "source": [
    "list1=[1,2,3,4,5]\n",
    "print(list1)"
   ]
  },
  {
   "cell_type": "code",
   "execution_count": 9,
   "id": "49a8bbc0",
   "metadata": {},
   "outputs": [
    {
     "name": "stdout",
     "output_type": "stream",
     "text": [
      "['python', 'dseu', 1, 2, 3, 4, 5]\n"
     ]
    }
   ],
   "source": [
    "list1=['python','dseu',1,2,3,4,5]\n",
    "print(list1)"
   ]
  },
  {
   "cell_type": "markdown",
   "id": "e2abe50b",
   "metadata": {},
   "source": [
    "# HOW TO ACCESS AN ELEMENT IN LIST"
   ]
  },
  {
   "cell_type": "code",
   "execution_count": 10,
   "id": "c459374b",
   "metadata": {},
   "outputs": [
    {
     "ename": "NameError",
     "evalue": "name 'LIST1' is not defined",
     "output_type": "error",
     "traceback": [
      "\u001b[1;31m---------------------------------------------------------------------------\u001b[0m",
      "\u001b[1;31mNameError\u001b[0m                                 Traceback (most recent call last)",
      "\u001b[1;32m~\\AppData\\Local\\Temp\\ipykernel_12836\\1553143522.py\u001b[0m in \u001b[0;36m<module>\u001b[1;34m\u001b[0m\n\u001b[1;32m----> 1\u001b[1;33m \u001b[0mLIST1\u001b[0m\u001b[1;33m[\u001b[0m\u001b[1;36m1\u001b[0m\u001b[1;33m]\u001b[0m\u001b[1;33m\u001b[0m\u001b[1;33m\u001b[0m\u001b[0m\n\u001b[0m",
      "\u001b[1;31mNameError\u001b[0m: name 'LIST1' is not defined"
     ]
    }
   ],
   "source": [
    "LIST1[1]\n"
   ]
  },
  {
   "cell_type": "code",
   "execution_count": 12,
   "id": "e308e566",
   "metadata": {},
   "outputs": [
    {
     "data": {
      "text/plain": [
       "'dseu'"
      ]
     },
     "execution_count": 12,
     "metadata": {},
     "output_type": "execute_result"
    }
   ],
   "source": [
    "list1[1]"
   ]
  },
  {
   "cell_type": "code",
   "execution_count": 13,
   "id": "3cd2ae18",
   "metadata": {},
   "outputs": [
    {
     "data": {
      "text/plain": [
       "5"
      ]
     },
     "execution_count": 13,
     "metadata": {},
     "output_type": "execute_result"
    }
   ],
   "source": [
    "list1[-1]"
   ]
  },
  {
   "cell_type": "code",
   "execution_count": 14,
   "id": "4dd8b817",
   "metadata": {},
   "outputs": [
    {
     "data": {
      "text/plain": [
       "7"
      ]
     },
     "execution_count": 14,
     "metadata": {},
     "output_type": "execute_result"
    }
   ],
   "source": [
    "len(list1)"
   ]
  },
  {
   "cell_type": "code",
   "execution_count": 15,
   "id": "38d82f3b",
   "metadata": {},
   "outputs": [
    {
     "name": "stdout",
     "output_type": "stream",
     "text": [
      "[1, 2, 3, 4, 5, 6, 7, 8, 9, 10, 11, 'String', 'Python', 'Program', 'DSEU', 'Virat', 'Dhoni', 4.65, 8.9, True, False, 100]\n"
     ]
    }
   ],
   "source": [
    "list2=[1,2,3,4,5,6,7,8,9,10,11,'String','Python','Program','DSEU','Virat','Dhoni',4.65,8.9,True,False,100]\n",
    "print(list2)"
   ]
  },
  {
   "cell_type": "markdown",
   "id": "926cdd26",
   "metadata": {},
   "source": [
    "Slice the crickters name from the list\n"
   ]
  },
  {
   "cell_type": "markdown",
   "id": "a93c7ccd",
   "metadata": {},
   "source": [
    "syntax : variable_name=[start_value:end_value]"
   ]
  },
  {
   "cell_type": "code",
   "execution_count": 17,
   "id": "d90b6e3c",
   "metadata": {},
   "outputs": [
    {
     "data": {
      "text/plain": [
       "['Virat', 'Dhoni']"
      ]
     },
     "execution_count": 17,
     "metadata": {},
     "output_type": "execute_result"
    }
   ],
   "source": [
    "list2[15:17]"
   ]
  },
  {
   "cell_type": "code",
   "execution_count": 18,
   "id": "b819f22a",
   "metadata": {},
   "outputs": [
    {
     "name": "stdout",
     "output_type": "stream",
     "text": [
      "[100, False, True, 8.9, 4.65, 'Dhoni', 'Virat', 'DSEU', 'Program', 'Python', 'String', 11, 10, 9, 8, 7, 6, 5, 4, 3, 2, 1]\n"
     ]
    }
   ],
   "source": [
    "print(list2[::-1])"
   ]
  },
  {
   "cell_type": "code",
   "execution_count": 19,
   "id": "a7d7cc77",
   "metadata": {},
   "outputs": [
    {
     "name": "stdout",
     "output_type": "stream",
     "text": [
      "[1, 2, 3, 4, 5, 6, 7, 8, 9, 10, 11, 'String', 'Python', 'Program', 'DSEU', 'Virat', 'Dhoni', 4.65, 8.9, True, False, 100] "
     ]
    }
   ],
   "source": [
    "print(list2[:],end=\" \")"
   ]
  },
  {
   "cell_type": "markdown",
   "id": "0c48fb2f",
   "metadata": {},
   "source": [
    "Identify the string is palindrome or not with the help of slicing?"
   ]
  },
  {
   "cell_type": "code",
   "execution_count": null,
   "id": "43ce85a2",
   "metadata": {},
   "outputs": [],
   "source": [
    "str1=input(\"enter the string : \")\n",
    "if str1[:]==str1[::1]\n",
    "    print('Palinfrome')\n",
    "else\n",
    "    print('Not palindrome')"
   ]
  },
  {
   "cell_type": "markdown",
   "id": "1ec0e02b",
   "metadata": {},
   "source": [
    "# OPERATORS"
   ]
  },
  {
   "cell_type": "code",
   "execution_count": 1,
   "id": "16cf6fe2",
   "metadata": {},
   "outputs": [
    {
     "name": "stdout",
     "output_type": "stream",
     "text": [
      "enter the number 1 : 2\n",
      "enter the number 1 : 3\n",
      "The sum of 2 and 3 is 5\n",
      "The sum of 2 & 3 is 5\n"
     ]
    }
   ],
   "source": [
    "#1 ADDITION\n",
    "\n",
    "a=int(input('enter the number 1 : '))\n",
    "b=int(input('enter the number 1 : '))\n",
    "c=a+b\n",
    "print('The sum of {} and {} is {}'.format(a,b,c))\n",
    "print(f'The sum of {a} & {b} is {c}')\n"
   ]
  },
  {
   "cell_type": "code",
   "execution_count": 3,
   "id": "69deb2a1",
   "metadata": {},
   "outputs": [
    {
     "name": "stdout",
     "output_type": "stream",
     "text": [
      "enter the number 1 : 4\n",
      "enter the number 1 : 5\n",
      "The difference of 4 and 5 is -1\n",
      "The difference of 4 & 5 is -1\n"
     ]
    }
   ],
   "source": [
    "#2 Subtraction\n",
    "\n",
    "a=int(input('enter the number 1 : '))\n",
    "b=int(input('enter the number 1 : '))\n",
    "c=a-b\n",
    "print('The difference of {} and {} is {}'.format(a,b,c))\n",
    "print(f'The difference of {a} & {b} is {c}')"
   ]
  },
  {
   "cell_type": "code",
   "execution_count": 7,
   "id": "170f71b8",
   "metadata": {},
   "outputs": [
    {
     "name": "stdout",
     "output_type": "stream",
     "text": [
      "enter the number 1 : 4\n",
      "enter the number 1 : 5\n",
      "The multiplication of 4 and 5 is 20\n",
      "The multiplication of 4 & 5 is 20\n"
     ]
    }
   ],
   "source": [
    "#3 Multiplication\n",
    "\n",
    "a=int(input('enter the number 1 : '))\n",
    "b=int(input('enter the number 1 : '))\n",
    "c=a*b\n",
    "print('The multiplication of {} and {} is {}'.format(a,b,c))\n",
    "print(f'The multiplication of {a} & {b} is {c}')"
   ]
  },
  {
   "cell_type": "code",
   "execution_count": 9,
   "id": "012ed759",
   "metadata": {},
   "outputs": [
    {
     "name": "stdout",
     "output_type": "stream",
     "text": [
      "enter the number 1 : 10\n",
      "enter the number 1 : 2\n",
      "The division of 10 and 2 is 5.0\n",
      "The division of 10 & 2 is 5.0\n"
     ]
    }
   ],
   "source": [
    "#4 Division(/ - integer)\n",
    "\n",
    "a=int(input('enter the number 1 : '))\n",
    "b=int(input('enter the number 1 : '))\n",
    "c=a/b\n",
    "print('The division of {} and {} is {}'.format(a,b,c))\n",
    "print(f'The division of {a} & {b} is {c}')"
   ]
  },
  {
   "cell_type": "code",
   "execution_count": 11,
   "id": "15f96bc2",
   "metadata": {},
   "outputs": [
    {
     "name": "stdout",
     "output_type": "stream",
     "text": [
      "enter the number 1 : 9\n",
      "enter the number 1 : 2\n",
      "The floor division of 9 and 2 is 1\n",
      "The floor division of 9 & 2 is 1\n"
     ]
    }
   ],
   "source": [
    "#4 Floor Division(% - integer)\n",
    "\n",
    "a=int(input('enter the number 1 : '))\n",
    "b=int(input('enter the number 1 : '))\n",
    "c=a%b\n",
    "print('The floor division of {} and {} is {}'.format(a,b,c))\n",
    "print(f'The floor division of {a} & {b} is {c}')"
   ]
  },
  {
   "cell_type": "code",
   "execution_count": 23,
   "id": "89f9cf5d",
   "metadata": {},
   "outputs": [
    {
     "name": "stdout",
     "output_type": "stream",
     "text": [
      "Yukti Saini\n"
     ]
    },
    {
     "data": {
      "text/plain": [
       "11"
      ]
     },
     "execution_count": 23,
     "metadata": {},
     "output_type": "execute_result"
    }
   ],
   "source": [
    "## Example of concatenation on string\n",
    "\n",
    "a = 'Yukti'\n",
    "b = ' Saini'\n",
    "c = a + b\n",
    "\n",
    "print( c )\n",
    "len(c)"
   ]
  },
  {
   "cell_type": "code",
   "execution_count": 19,
   "id": "b842691e",
   "metadata": {},
   "outputs": [
    {
     "name": "stdout",
     "output_type": "stream",
     "text": [
      "[1, 2, 3, 1, 2, 3, 1, 2, 3]\n"
     ]
    }
   ],
   "source": [
    "## Repeation\n",
    "\n",
    "list4 = [1,2,3]\n",
    "list5 = list4*3\n",
    "print(list5)"
   ]
  },
  {
   "cell_type": "code",
   "execution_count": 22,
   "id": "21ba01ad",
   "metadata": {},
   "outputs": [
    {
     "name": "stdout",
     "output_type": "stream",
     "text": [
      " Yukti Yukti\n"
     ]
    },
    {
     "data": {
      "text/plain": [
       "12"
      ]
     },
     "execution_count": 22,
     "metadata": {},
     "output_type": "execute_result"
    }
   ],
   "source": [
    "a = ' Yukti'\n",
    "b = a*2\n",
    "print(b)\n",
    "len(b)"
   ]
  },
  {
   "cell_type": "markdown",
   "id": "8c6b02e1",
   "metadata": {},
   "source": [
    "# UPDATE THE VALUE IN THE LIST"
   ]
  },
  {
   "cell_type": "code",
   "execution_count": 24,
   "id": "05c9f49f",
   "metadata": {},
   "outputs": [
    {
     "ename": "TypeError",
     "evalue": "'str' object does not support item assignment",
     "output_type": "error",
     "traceback": [
      "\u001b[1;31m---------------------------------------------------------------------------\u001b[0m",
      "\u001b[1;31mTypeError\u001b[0m                                 Traceback (most recent call last)",
      "\u001b[1;32m~\\AppData\\Local\\Temp\\ipykernel_24412\\3991323665.py\u001b[0m in \u001b[0;36m<module>\u001b[1;34m\u001b[0m\n\u001b[0;32m      1\u001b[0m \u001b[0mstr1\u001b[0m \u001b[1;33m=\u001b[0m \u001b[1;34m'Python'\u001b[0m\u001b[1;33m\u001b[0m\u001b[1;33m\u001b[0m\u001b[0m\n\u001b[1;32m----> 2\u001b[1;33m \u001b[0mstr1\u001b[0m\u001b[1;33m[\u001b[0m\u001b[1;36m0\u001b[0m\u001b[1;33m]\u001b[0m\u001b[1;33m=\u001b[0m\u001b[1;34m'p'\u001b[0m\u001b[1;33m\u001b[0m\u001b[1;33m\u001b[0m\u001b[0m\n\u001b[0m",
      "\u001b[1;31mTypeError\u001b[0m: 'str' object does not support item assignment"
     ]
    }
   ],
   "source": [
    "str1 = 'Python'\n",
    "str1[0]='p'"
   ]
  },
  {
   "cell_type": "code",
   "execution_count": 26,
   "id": "4274c893",
   "metadata": {},
   "outputs": [
    {
     "name": "stdout",
     "output_type": "stream",
     "text": [
      "[1, 2, 3, 4, 5, 6, 7, 8, 9, 10, 11, 'String', 'Python', 'Program', 'DSEU', 'Virat', 'Dhoni', 4.65, 8.9, True, False, 100]\n",
      "[1, 2, 3, 4, 5, 6, 7, 8, 9, 10, 11, 'String', 'Python', 'Program', 'DSEU', 'Virat', 'Dhoni', 'Sachin', 8.9, True, False, 100]\n"
     ]
    }
   ],
   "source": [
    "# proof list is a mutable datatype\n",
    "list6=[1,2,3,4,5,6,7,8,9,10,11,'String','Python','Program','DSEU','Virat','Dhoni',4.65,8.9,True,False,100]\n",
    "print(list6)\n",
    "list6[-5]='Sachin'\n",
    "print(list6)"
   ]
  },
  {
   "cell_type": "markdown",
   "id": "191281d6",
   "metadata": {},
   "source": [
    "# TUPLES"
   ]
  },
  {
   "cell_type": "code",
   "execution_count": 27,
   "id": "bb218f7e",
   "metadata": {},
   "outputs": [
    {
     "name": "stdout",
     "output_type": "stream",
     "text": [
      "()\n"
     ]
    }
   ],
   "source": [
    "## 1st method\n",
    "\n",
    "tup1 = ()\n",
    "print(tup1)"
   ]
  },
  {
   "cell_type": "code",
   "execution_count": 28,
   "id": "612d8036",
   "metadata": {},
   "outputs": [
    {
     "name": "stdout",
     "output_type": "stream",
     "text": [
      "()\n"
     ]
    }
   ],
   "source": [
    "## 2 method\n",
    "tup2 = tuple()\n",
    "print(tup2)"
   ]
  },
  {
   "cell_type": "code",
   "execution_count": 29,
   "id": "c2631360",
   "metadata": {},
   "outputs": [
    {
     "data": {
      "text/plain": [
       "tuple"
      ]
     },
     "execution_count": 29,
     "metadata": {},
     "output_type": "execute_result"
    }
   ],
   "source": [
    "type(tup2)"
   ]
  },
  {
   "cell_type": "code",
   "execution_count": 30,
   "id": "5b8a8623",
   "metadata": {},
   "outputs": [
    {
     "name": "stdout",
     "output_type": "stream",
     "text": [
      "(1, 2, 3, 4, 'apple', 'mango', 'dhoni', 'Yukti', 4.5)\n"
     ]
    }
   ],
   "source": [
    "tup3 = (1,2,3,4,'apple','mango','dhoni','Yukti',4.5)\n",
    "print(tup3)"
   ]
  },
  {
   "cell_type": "code",
   "execution_count": 31,
   "id": "8af00611",
   "metadata": {},
   "outputs": [
    {
     "data": {
      "text/plain": [
       "4"
      ]
     },
     "execution_count": 31,
     "metadata": {},
     "output_type": "execute_result"
    }
   ],
   "source": [
    "tup3[3]"
   ]
  },
  {
   "cell_type": "code",
   "execution_count": 32,
   "id": "bfb60f72",
   "metadata": {},
   "outputs": [
    {
     "data": {
      "text/plain": [
       "(3, 4, 'apple', 'mango')"
      ]
     },
     "execution_count": 32,
     "metadata": {},
     "output_type": "execute_result"
    }
   ],
   "source": [
    "tup3[2:6]"
   ]
  },
  {
   "cell_type": "markdown",
   "id": "65a2f832",
   "metadata": {},
   "source": [
    "# HOW TO CHANGE VALUE IN TUPLE"
   ]
  },
  {
   "cell_type": "code",
   "execution_count": 33,
   "id": "16fd28c4",
   "metadata": {},
   "outputs": [
    {
     "ename": "NameError",
     "evalue": "name 'TUP3' is not defined",
     "output_type": "error",
     "traceback": [
      "\u001b[1;31m---------------------------------------------------------------------------\u001b[0m",
      "\u001b[1;31mNameError\u001b[0m                                 Traceback (most recent call last)",
      "\u001b[1;32m~\\AppData\\Local\\Temp\\ipykernel_24412\\1784720925.py\u001b[0m in \u001b[0;36m<module>\u001b[1;34m\u001b[0m\n\u001b[1;32m----> 1\u001b[1;33m \u001b[0mTUP3\u001b[0m\u001b[1;33m[\u001b[0m\u001b[1;36m5\u001b[0m\u001b[1;33m]\u001b[0m\u001b[1;33m=\u001b[0m\u001b[1;34m'banana'\u001b[0m\u001b[1;33m\u001b[0m\u001b[1;33m\u001b[0m\u001b[0m\n\u001b[0m",
      "\u001b[1;31mNameError\u001b[0m: name 'TUP3' is not defined"
     ]
    }
   ],
   "source": [
    "TUP3[5]='banana'"
   ]
  },
  {
   "cell_type": "code",
   "execution_count": 34,
   "id": "b27dcb86",
   "metadata": {},
   "outputs": [
    {
     "data": {
      "text/plain": [
       "9"
      ]
     },
     "execution_count": 34,
     "metadata": {},
     "output_type": "execute_result"
    }
   ],
   "source": [
    "len(tup3)"
   ]
  },
  {
   "cell_type": "code",
   "execution_count": 36,
   "id": "979b4b30",
   "metadata": {},
   "outputs": [
    {
     "data": {
      "text/plain": [
       "6"
      ]
     },
     "execution_count": 36,
     "metadata": {},
     "output_type": "execute_result"
    }
   ],
   "source": [
    "tup1 = (1,2,3,4,5,6)\n",
    "max(tup1)\n"
   ]
  },
  {
   "cell_type": "code",
   "execution_count": 37,
   "id": "8934e5a9",
   "metadata": {},
   "outputs": [
    {
     "data": {
      "text/plain": [
       "1"
      ]
     },
     "execution_count": 37,
     "metadata": {},
     "output_type": "execute_result"
    }
   ],
   "source": [
    "tup1 = (1,2,3,4,5,6)\n",
    "min(tup1)\n"
   ]
  },
  {
   "cell_type": "code",
   "execution_count": 38,
   "id": "9b3606c1",
   "metadata": {},
   "outputs": [
    {
     "data": {
      "text/plain": [
       "21"
      ]
     },
     "execution_count": 38,
     "metadata": {},
     "output_type": "execute_result"
    }
   ],
   "source": [
    "tup1 = (1,2,3,4,5,6)\n",
    "sum(tup1)"
   ]
  },
  {
   "cell_type": "markdown",
   "id": "75f5ad0b",
   "metadata": {},
   "source": [
    "# DICTIONARY"
   ]
  },
  {
   "cell_type": "code",
   "execution_count": 3,
   "id": "a01a87de",
   "metadata": {},
   "outputs": [
    {
     "name": "stdout",
     "output_type": "stream",
     "text": [
      "{}\n"
     ]
    }
   ],
   "source": [
    "dict1 = {}\n",
    "print(dict1)"
   ]
  },
  {
   "cell_type": "code",
   "execution_count": 4,
   "id": "ba7a7ee3",
   "metadata": {},
   "outputs": [
    {
     "data": {
      "text/plain": [
       "dict"
      ]
     },
     "execution_count": 4,
     "metadata": {},
     "output_type": "execute_result"
    }
   ],
   "source": [
    "type(dict1)"
   ]
  },
  {
   "cell_type": "code",
   "execution_count": 6,
   "id": "d156ff3e",
   "metadata": {},
   "outputs": [
    {
     "name": "stdout",
     "output_type": "stream",
     "text": [
      "{}\n"
     ]
    },
    {
     "data": {
      "text/plain": [
       "dict"
      ]
     },
     "execution_count": 6,
     "metadata": {},
     "output_type": "execute_result"
    }
   ],
   "source": [
    "## 2 method\n",
    "dict2 = dict()\n",
    "print(dict2)\n",
    "type(dict2)\n"
   ]
  },
  {
   "cell_type": "markdown",
   "id": "ae741932",
   "metadata": {},
   "source": [
    "# How to create a dictionary with elements"
   ]
  },
  {
   "cell_type": "code",
   "execution_count": 7,
   "id": "c540c079",
   "metadata": {},
   "outputs": [
    {
     "ename": "KeyError",
     "evalue": "0",
     "output_type": "error",
     "traceback": [
      "\u001b[1;31m---------------------------------------------------------------------------\u001b[0m",
      "\u001b[1;31mKeyError\u001b[0m                                  Traceback (most recent call last)",
      "\u001b[1;32m~\\AppData\\Local\\Temp\\ipykernel_23056\\2754183672.py\u001b[0m in \u001b[0;36m<module>\u001b[1;34m\u001b[0m\n\u001b[0;32m      1\u001b[0m \u001b[1;31m## in gthis dictionary, each element has its sq values\u001b[0m\u001b[1;33m\u001b[0m\u001b[1;33m\u001b[0m\u001b[0m\n\u001b[0;32m      2\u001b[0m \u001b[0mdict1\u001b[0m \u001b[1;33m=\u001b[0m \u001b[1;33m{\u001b[0m\u001b[1;36m1\u001b[0m\u001b[1;33m:\u001b[0m\u001b[1;36m1\u001b[0m\u001b[1;33m,\u001b[0m\u001b[1;36m2\u001b[0m\u001b[1;33m:\u001b[0m\u001b[1;36m4\u001b[0m\u001b[1;33m,\u001b[0m\u001b[1;36m3\u001b[0m\u001b[1;33m:\u001b[0m\u001b[1;36m9\u001b[0m\u001b[1;33m}\u001b[0m\u001b[1;33m\u001b[0m\u001b[1;33m\u001b[0m\u001b[0m\n\u001b[1;32m----> 3\u001b[1;33m \u001b[0mdict1\u001b[0m\u001b[1;33m[\u001b[0m\u001b[1;36m0\u001b[0m\u001b[1;33m]\u001b[0m\u001b[1;33m\u001b[0m\u001b[1;33m\u001b[0m\u001b[0m\n\u001b[0m",
      "\u001b[1;31mKeyError\u001b[0m: 0"
     ]
    }
   ],
   "source": [
    "## in gthis dictionary, each element has its sq values\n",
    "dict1 = {1:1,2:4,3:9}\n",
    "dict1[0]"
   ]
  },
  {
   "cell_type": "code",
   "execution_count": 8,
   "id": "583556de",
   "metadata": {},
   "outputs": [
    {
     "name": "stdout",
     "output_type": "stream",
     "text": [
      "{1: 1, 2: 4, 3: 9}\n"
     ]
    }
   ],
   "source": [
    "print(dict1)"
   ]
  },
  {
   "cell_type": "code",
   "execution_count": 9,
   "id": "75190e9c",
   "metadata": {},
   "outputs": [
    {
     "data": {
      "text/plain": [
       "3"
      ]
     },
     "execution_count": 9,
     "metadata": {},
     "output_type": "execute_result"
    }
   ],
   "source": [
    "len(dict1)\n"
   ]
  },
  {
   "cell_type": "code",
   "execution_count": 10,
   "id": "1cd0c808",
   "metadata": {},
   "outputs": [
    {
     "ename": "KeyError",
     "evalue": "4",
     "output_type": "error",
     "traceback": [
      "\u001b[1;31m---------------------------------------------------------------------------\u001b[0m",
      "\u001b[1;31mKeyError\u001b[0m                                  Traceback (most recent call last)",
      "\u001b[1;32m~\\AppData\\Local\\Temp\\ipykernel_23056\\741332838.py\u001b[0m in \u001b[0;36m<module>\u001b[1;34m\u001b[0m\n\u001b[1;32m----> 1\u001b[1;33m \u001b[0mdict1\u001b[0m\u001b[1;33m[\u001b[0m\u001b[1;36m4\u001b[0m\u001b[1;33m]\u001b[0m\u001b[1;33m\u001b[0m\u001b[1;33m\u001b[0m\u001b[0m\n\u001b[0m",
      "\u001b[1;31mKeyError\u001b[0m: 4"
     ]
    }
   ],
   "source": [
    "dict1[4]"
   ]
  },
  {
   "cell_type": "code",
   "execution_count": 13,
   "id": "3397733c",
   "metadata": {},
   "outputs": [
    {
     "data": {
      "text/plain": [
       "9"
      ]
     },
     "execution_count": 13,
     "metadata": {},
     "output_type": "execute_result"
    }
   ],
   "source": [
    "dict1[3]"
   ]
  },
  {
   "cell_type": "code",
   "execution_count": 14,
   "id": "08470327",
   "metadata": {},
   "outputs": [
    {
     "data": {
      "text/plain": [
       "37"
      ]
     },
     "execution_count": 14,
     "metadata": {},
     "output_type": "execute_result"
    }
   ],
   "source": [
    "dict2 = {1:1,2:4,3:9,3:37}\n",
    "dict2[3]"
   ]
  },
  {
   "cell_type": "code",
   "execution_count": 15,
   "id": "dac31536",
   "metadata": {},
   "outputs": [],
   "source": [
    "## entering the elements in empty dictionary\n",
    "day = {}\n",
    "#day = {1:'monday',2:'tuesday',3:'wednesday'}\n"
   ]
  },
  {
   "cell_type": "code",
   "execution_count": 16,
   "id": "5da80ef6",
   "metadata": {},
   "outputs": [],
   "source": [
    "day[1]='monday'\n",
    "day[2]='tueday'\n",
    "day[3]='wednesday'\n",
    "day[4]='thrusday'\n",
    "day[5]='friday'\n"
   ]
  },
  {
   "cell_type": "code",
   "execution_count": 17,
   "id": "d7ece47b",
   "metadata": {},
   "outputs": [
    {
     "name": "stdout",
     "output_type": "stream",
     "text": [
      "{1: 'monday', 2: 'tueday', 3: 'wednesday', 4: 'thrusday', 5: 'friday'}\n"
     ]
    }
   ],
   "source": [
    "print(day)"
   ]
  },
  {
   "cell_type": "code",
   "execution_count": 20,
   "id": "18f09850",
   "metadata": {},
   "outputs": [
    {
     "name": "stdout",
     "output_type": "stream",
     "text": [
      "{1: 'monday', 2: 'tueday', 3: 'wednesday', 4: 'thrusday', 5: 'saturday', 6: 'saturday'}\n"
     ]
    }
   ],
   "source": [
    "## dictionary in unordered sequence data type\n",
    "day[6]='saturday'\n",
    "print(day)"
   ]
  },
  {
   "cell_type": "markdown",
   "id": "ee12da87",
   "metadata": {},
   "source": [
    "# UPDATING THE VALUE IN DICTIONARY"
   ]
  },
  {
   "cell_type": "code",
   "execution_count": 21,
   "id": "6b7066ef",
   "metadata": {},
   "outputs": [
    {
     "name": "stdout",
     "output_type": "stream",
     "text": [
      "{'name': 'virat', 'age': 34, 'runs': [82, 62, 50, 12]}\n"
     ]
    }
   ],
   "source": [
    "dict1 = {'name':'virat','age':34,'runs':[82,62,50,12]}\n",
    "print(dict1)"
   ]
  },
  {
   "cell_type": "code",
   "execution_count": 23,
   "id": "596aa396",
   "metadata": {},
   "outputs": [
    {
     "name": "stdout",
     "output_type": "stream",
     "text": [
      "[82, 62, 50, 12]\n",
      "62\n"
     ]
    }
   ],
   "source": [
    "print(dict1['runs'])\n",
    "print(dict1['runs'][1])"
   ]
  },
  {
   "cell_type": "code",
   "execution_count": 25,
   "id": "4b9a6ed4",
   "metadata": {},
   "outputs": [
    {
     "ename": "TypeError",
     "evalue": "unhashable type: 'list'",
     "output_type": "error",
     "traceback": [
      "\u001b[1;31m---------------------------------------------------------------------------\u001b[0m",
      "\u001b[1;31mTypeError\u001b[0m                                 Traceback (most recent call last)",
      "\u001b[1;32m~\\AppData\\Local\\Temp\\ipykernel_23056\\1112847730.py\u001b[0m in \u001b[0;36m<module>\u001b[1;34m\u001b[0m\n\u001b[1;32m----> 1\u001b[1;33m \u001b[0mdict2\u001b[0m \u001b[1;33m=\u001b[0m \u001b[1;33m{\u001b[0m\u001b[1;33m[\u001b[0m\u001b[1;36m1\u001b[0m\u001b[1;33m,\u001b[0m\u001b[1;36m2\u001b[0m\u001b[1;33m]\u001b[0m\u001b[1;33m:\u001b[0m\u001b[1;36m100\u001b[0m\u001b[1;33m}\u001b[0m\u001b[1;33m\u001b[0m\u001b[1;33m\u001b[0m\u001b[0m\n\u001b[0m\u001b[0;32m      2\u001b[0m \u001b[0mprint\u001b[0m\u001b[1;33m(\u001b[0m\u001b[0mdict2\u001b[0m\u001b[1;33m[\u001b[0m\u001b[1;33m[\u001b[0m\u001b[1;36m1\u001b[0m\u001b[1;33m,\u001b[0m\u001b[1;36m2\u001b[0m\u001b[1;33m]\u001b[0m\u001b[1;33m]\u001b[0m\u001b[1;33m)\u001b[0m\u001b[1;33m\u001b[0m\u001b[1;33m\u001b[0m\u001b[0m\n",
      "\u001b[1;31mTypeError\u001b[0m: unhashable type: 'list'"
     ]
    }
   ],
   "source": [
    "dict2 = {[1,2]:100}\n",
    "print(dict2[[1,2]])"
   ]
  },
  {
   "cell_type": "markdown",
   "id": "e51a59e5",
   "metadata": {},
   "source": [
    "# METHODS IN DICTIONARY"
   ]
  },
  {
   "cell_type": "code",
   "execution_count": 26,
   "id": "092b02a4",
   "metadata": {},
   "outputs": [
    {
     "ename": "SyntaxError",
     "evalue": "unexpected EOF while parsing (188503802.py, line 4)",
     "output_type": "error",
     "traceback": [
      "\u001b[1;36m  File \u001b[1;32m\"C:\\Users\\HP\\AppData\\Local\\Temp\\ipykernel_23056\\188503802.py\"\u001b[1;36m, line \u001b[1;32m4\u001b[0m\n\u001b[1;33m    \u001b[0m\n\u001b[1;37m    ^\u001b[0m\n\u001b[1;31mSyntaxError\u001b[0m\u001b[1;31m:\u001b[0m unexpected EOF while parsing\n"
     ]
    }
   ],
   "source": [
    "#1 clear()\n",
    "dict1 = {'Name':'virat','age':34,'runs':[82,62,50,12],'venue':'australia','worldcup':'t20'}\n",
    "print('before update'\n",
    "      \n"
   ]
  },
  {
   "cell_type": "code",
   "execution_count": 27,
   "id": "2867b3c6",
   "metadata": {},
   "outputs": [
    {
     "name": "stdout",
     "output_type": "stream",
     "text": [
      "dict2 {'Name': 'virat', 'age': 34, 'runs': [82, 62, 50, 12], 'venue': 'australia', 'worldcup': 't20'}\n"
     ]
    }
   ],
   "source": [
    "#2 copy()\n",
    "dict1 = {'Name':'virat','age':34,'runs':[82,62,50,12],'venue':'australia','worldcup':'t20'}\n",
    "dict2 = dict1.copy()\n",
    "print('dict2',dict2)"
   ]
  },
  {
   "cell_type": "code",
   "execution_count": 32,
   "id": "4da44e96",
   "metadata": {},
   "outputs": [
    {
     "name": "stdout",
     "output_type": "stream",
     "text": [
      "virat\n",
      "virat\n"
     ]
    },
    {
     "ename": "TypeError",
     "evalue": "get expected at least 1 argument, got 0",
     "output_type": "error",
     "traceback": [
      "\u001b[1;31m---------------------------------------------------------------------------\u001b[0m",
      "\u001b[1;31mTypeError\u001b[0m                                 Traceback (most recent call last)",
      "\u001b[1;32m~\\AppData\\Local\\Temp\\ipykernel_23056\\1189840752.py\u001b[0m in \u001b[0;36m<module>\u001b[1;34m\u001b[0m\n\u001b[0;32m      3\u001b[0m \u001b[0mprint\u001b[0m\u001b[1;33m(\u001b[0m\u001b[0mdict1\u001b[0m\u001b[1;33m.\u001b[0m\u001b[0mget\u001b[0m\u001b[1;33m(\u001b[0m\u001b[1;34m'Name'\u001b[0m\u001b[1;33m)\u001b[0m\u001b[1;33m)\u001b[0m\u001b[1;33m\u001b[0m\u001b[1;33m\u001b[0m\u001b[0m\n\u001b[0;32m      4\u001b[0m \u001b[0mprint\u001b[0m\u001b[1;33m(\u001b[0m\u001b[0mdict1\u001b[0m\u001b[1;33m.\u001b[0m\u001b[0mget\u001b[0m\u001b[1;33m(\u001b[0m\u001b[1;34m'Name'\u001b[0m\u001b[1;33m)\u001b[0m\u001b[1;33m)\u001b[0m\u001b[1;33m\u001b[0m\u001b[1;33m\u001b[0m\u001b[0m\n\u001b[1;32m----> 5\u001b[1;33m \u001b[0mprint\u001b[0m\u001b[1;33m(\u001b[0m\u001b[0mdict1\u001b[0m\u001b[1;33m.\u001b[0m\u001b[0mget\u001b[0m\u001b[1;33m(\u001b[0m\u001b[1;33m)\u001b[0m\u001b[1;33m)\u001b[0m\u001b[1;33m\u001b[0m\u001b[1;33m\u001b[0m\u001b[0m\n\u001b[0m",
      "\u001b[1;31mTypeError\u001b[0m: get expected at least 1 argument, got 0"
     ]
    }
   ],
   "source": [
    "#3 get()\n",
    "dict1 = {'Name':'virat','age':34,'runs':[82,62,50,12],'venue':'australia','worldcup':'t20'}\n",
    "print(dict1.get('Name'))\n",
    "print(dict1.get('Name'))\n",
    "print(dict1.get())"
   ]
  },
  {
   "cell_type": "code",
   "execution_count": 33,
   "id": "ad242af9",
   "metadata": {},
   "outputs": [
    {
     "name": "stdout",
     "output_type": "stream",
     "text": [
      "{'Name': 'virat', 'age': 34, 'runs': [82, 62, 50, 12], 'venue': 'australia', 'worldcup': 't20'}\n",
      "dict_items([('Name', 'virat'), ('age', 34), ('runs', [82, 62, 50, 12]), ('venue', 'australia'), ('worldcup', 't20')])\n"
     ]
    }
   ],
   "source": [
    "#4. items()\n",
    "dict1 = {'Name':'virat','age':34,'runs':[82,62,50,12],'venue':'australia','worldcup':'t20'}\n",
    "\n",
    "print(dict1)\n",
    "dict2 = dict1.items()\n",
    "print(dict2)"
   ]
  },
  {
   "cell_type": "code",
   "execution_count": 34,
   "id": "e1c5e488",
   "metadata": {},
   "outputs": [
    {
     "data": {
      "text/plain": [
       "dict_items"
      ]
     },
     "execution_count": 34,
     "metadata": {},
     "output_type": "execute_result"
    }
   ],
   "source": [
    "type(dict2)\n"
   ]
  },
  {
   "cell_type": "code",
   "execution_count": 35,
   "id": "62543010",
   "metadata": {},
   "outputs": [
    {
     "name": "stdout",
     "output_type": "stream",
     "text": [
      "dict_keys(['Name', 'age', 'runs', 'venue', 'worldcup'])\n"
     ]
    }
   ],
   "source": [
    "#5. keys()\n",
    "dict1 = {'Name':'virat','age':34,'runs':[82,62,50,12],'venue':'australia','worldcup':'t20'}\n",
    "print(dict1.keys())"
   ]
  },
  {
   "cell_type": "code",
   "execution_count": 36,
   "id": "5277df5d",
   "metadata": {},
   "outputs": [
    {
     "name": "stdout",
     "output_type": "stream",
     "text": [
      "dict_values(['virat', 34, [82, 62, 50, 12], 'australia', 't20'])\n"
     ]
    }
   ],
   "source": [
    "#6. values()\n",
    "dict1 = {'Name':'virat','age':34,'runs':[82,62,50,12],'venue':'australia','worldcup':'t20'}\n",
    "print(dict1.values())"
   ]
  },
  {
   "cell_type": "code",
   "execution_count": 37,
   "id": "a102172f",
   "metadata": {},
   "outputs": [
    {
     "name": "stdout",
     "output_type": "stream",
     "text": [
      "{1: 1, 2: 4, 3: 9, 4: 16, 5: 25, 6: 36, 7: 49}\n",
      "{4: 16, 5: 25, 6: 36, 7: 49}\n"
     ]
    }
   ],
   "source": [
    "#7. update()\n",
    "dict3={1:1,2:4,3:9}\n",
    "dict4={4:16,5:25,6:36,7:49}\n",
    "\n",
    "dict3.update(dict4)\n",
    "print(dict3)\n",
    "print(dict4)\n"
   ]
  },
  {
   "cell_type": "markdown",
   "id": "3d431256",
   "metadata": {},
   "source": [
    "# PYTHON LOOPS"
   ]
  },
  {
   "cell_type": "markdown",
   "id": "d91aac04",
   "metadata": {},
   "source": [
    "# "
   ]
  },
  {
   "cell_type": "code",
   "execution_count": 40,
   "id": "ef70f8df",
   "metadata": {},
   "outputs": [],
   "source": [
    "#while test_expressions:\n",
    "    #body/statements"
   ]
  },
  {
   "cell_type": "code",
   "execution_count": 42,
   "id": "3b4245be",
   "metadata": {},
   "outputs": [
    {
     "name": "stdout",
     "output_type": "stream",
     "text": [
      "2 3 4 5 6 7 8 9 10 11 Exit from loop\n"
     ]
    }
   ],
   "source": [
    "# eg1\n",
    "# initialize counter\n",
    "\n",
    "i=1\n",
    "while i <=10: \n",
    "    #i = i+1\n",
    "    i+=1 \n",
    "    print(i,end=\" \")\n",
    "print('Exit from loop')"
   ]
  },
  {
   "cell_type": "code",
   "execution_count": 43,
   "id": "f0b5615b",
   "metadata": {},
   "outputs": [
    {
     "name": "stdout",
     "output_type": "stream",
     "text": [
      "inside loop\n",
      "inside loop\n",
      "inside loop\n",
      "inside else\n"
     ]
    }
   ],
   "source": [
    "counter = 0\n",
    "while counter < 3:\n",
    "    print('inside loop')\n",
    "    #counter = counter+1\n",
    "    counter+=1\n",
    "else:\n",
    "    print('inside else')"
   ]
  },
  {
   "cell_type": "code",
   "execution_count": 45,
   "id": "f6cd77d4",
   "metadata": {},
   "outputs": [
    {
     "name": "stdout",
     "output_type": "stream",
     "text": [
      "inside loop\n"
     ]
    }
   ],
   "source": [
    "counter = 0\n",
    "while counter < 3:\n",
    "    if counter == 1:\n",
    "        break\n",
    "    print('inside loop')\n",
    "    #counter = counter+1\n",
    "    counter+=1\n",
    "else:\n",
    "    print('inside else')"
   ]
  },
  {
   "cell_type": "code",
   "execution_count": null,
   "id": "3a8a82a7",
   "metadata": {},
   "outputs": [],
   "source": []
  }
 ],
 "metadata": {
  "kernelspec": {
   "display_name": "Python 3 (ipykernel)",
   "language": "python",
   "name": "python3"
  },
  "language_info": {
   "codemirror_mode": {
    "name": "ipython",
    "version": 3
   },
   "file_extension": ".py",
   "mimetype": "text/x-python",
   "name": "python",
   "nbconvert_exporter": "python",
   "pygments_lexer": "ipython3",
   "version": "3.9.13"
  }
 },
 "nbformat": 4,
 "nbformat_minor": 5
}
