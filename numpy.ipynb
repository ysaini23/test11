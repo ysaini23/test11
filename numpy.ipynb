{
 "cells": [
  {
   "cell_type": "code",
   "execution_count": 1,
   "id": "97a50cfd",
   "metadata": {},
   "outputs": [
    {
     "ename": "NameError",
     "evalue": "name 'np' is not defined",
     "output_type": "error",
     "traceback": [
      "\u001b[1;31m---------------------------------------------------------------------------\u001b[0m",
      "\u001b[1;31mNameError\u001b[0m                                 Traceback (most recent call last)",
      "\u001b[1;32m~\\AppData\\Local\\Temp\\ipykernel_22788\\947891939.py\u001b[0m in \u001b[0;36m<module>\u001b[1;34m\u001b[0m\n\u001b[1;32m----> 1\u001b[1;33m \u001b[0mnp\u001b[0m\u001b[1;33m.\u001b[0m\u001b[0mstd\u001b[0m\u001b[1;33m(\u001b[0m\u001b[1;33m[\u001b[0m\u001b[1;36m1\u001b[0m\u001b[1;33m,\u001b[0m\u001b[1;36m2\u001b[0m\u001b[1;33m,\u001b[0m\u001b[1;36m3\u001b[0m\u001b[1;33m]\u001b[0m\u001b[1;33m)\u001b[0m\u001b[1;33m\u001b[0m\u001b[1;33m\u001b[0m\u001b[0m\n\u001b[0m\u001b[0;32m      2\u001b[0m \u001b[1;33m\u001b[0m\u001b[0m\n",
      "\u001b[1;31mNameError\u001b[0m: name 'np' is not defined"
     ]
    }
   ],
   "source": [
    "np.std([1,2,3])\n",
    "\n"
   ]
  },
  {
   "cell_type": "code",
   "execution_count": 2,
   "id": "af783198",
   "metadata": {},
   "outputs": [],
   "source": [
    "import numpy as np"
   ]
  },
  {
   "cell_type": "code",
   "execution_count": 3,
   "id": "59e15613",
   "metadata": {},
   "outputs": [],
   "source": [
    "# Statement to import the numpy library\n",
    "import numpy as np"
   ]
  },
  {
   "cell_type": "code",
   "execution_count": 5,
   "id": "8757f649",
   "metadata": {},
   "outputs": [
    {
     "name": "stdout",
     "output_type": "stream",
     "text": [
      "[ 2  3  5  7 11]\n"
     ]
    }
   ],
   "source": [
    "#one dimensional array of some prime numbers\n",
    "prime_array = np.array([2,3,5,7,11])\n",
    "print(prime_array)"
   ]
  },
  {
   "cell_type": "code",
   "execution_count": 6,
   "id": "2073dff2",
   "metadata": {},
   "outputs": [
    {
     "data": {
      "text/plain": [
       "numpy.ndarray"
      ]
     },
     "execution_count": 6,
     "metadata": {},
     "output_type": "execute_result"
    }
   ],
   "source": [
    "type(prime_array)\n"
   ]
  },
  {
   "cell_type": "code",
   "execution_count": 8,
   "id": "d15dbb4e",
   "metadata": {},
   "outputs": [
    {
     "name": "stdout",
     "output_type": "stream",
     "text": [
      "[[2 3]\n",
      " [7 8]]\n"
     ]
    }
   ],
   "source": [
    "# 2d array \n",
    "another_array = np.array([[2,3],[7,8]])\n",
    "print(another_array)"
   ]
  },
  {
   "cell_type": "code",
   "execution_count": 9,
   "id": "8ee6f8f6",
   "metadata": {},
   "outputs": [
    {
     "name": "stdout",
     "output_type": "stream",
     "text": [
      "[[[1 2]\n",
      "  [3 4]]\n",
      "\n",
      " [[5 6]\n",
      "  [7 8]]]\n",
      "(2, 2, 2)\n"
     ]
    }
   ],
   "source": [
    "# Create a three-dimensional array \n",
    "threeD_array = np.array([[[1,2],[3,4]],\n",
    "                        [[5,6],[7,8]]])\n",
    "print(threeD_array)\n",
    "print(threeD_array.shape)"
   ]
  },
  {
   "cell_type": "markdown",
   "id": "24973689",
   "metadata": {},
   "source": [
    "# Array inspection"
   ]
  },
  {
   "cell_type": "markdown",
   "id": "4c45691a",
   "metadata": {},
   "source": [
    "# 1. ndarray.shape\n",
    "this is a tuple consting of array dimensions and can be used to resize the array\n"
   ]
  },
  {
   "cell_type": "code",
   "execution_count": 11,
   "id": "99cd1742",
   "metadata": {},
   "outputs": [
    {
     "name": "stdout",
     "output_type": "stream",
     "text": [
      "(2, 3)\n"
     ]
    }
   ],
   "source": [
    "alma_array = np.array([[1,2,3],[4,5,6]]) \n",
    "print(alma_array.shape)\n"
   ]
  },
  {
   "cell_type": "code",
   "execution_count": 12,
   "id": "fe3d2d45",
   "metadata": {},
   "outputs": [
    {
     "name": "stdout",
     "output_type": "stream",
     "text": [
      "(2, 4)\n"
     ]
    }
   ],
   "source": [
    "alma_array = np.array([[1,2,3,4],[4,5,9,10]]) \n",
    "print(alma_array.shape)"
   ]
  },
  {
   "cell_type": "code",
   "execution_count": 13,
   "id": "80296701",
   "metadata": {},
   "outputs": [
    {
     "name": "stdout",
     "output_type": "stream",
     "text": [
      "(4, 2, 3)\n"
     ]
    }
   ],
   "source": [
    "alma_array = np.array([[[1,2,3],[4,5,6]],\n",
    "                       [[1,2,3],[4,5,6]],\n",
    "                       [[1,2,3],[4,5,6]],\n",
    "                       [[1,2,3],[4,5,6]]]) \n",
    "# print(alma_array)\n",
    "print(alma_array.shape)"
   ]
  },
  {
   "cell_type": "markdown",
   "id": "041f84db",
   "metadata": {},
   "source": [
    "# 2. ndarray.ndim\n",
    "thsi returns the no of array dimensions"
   ]
  },
  {
   "cell_type": "code",
   "execution_count": 14,
   "id": "2c8f84b7",
   "metadata": {},
   "outputs": [
    {
     "name": "stdout",
     "output_type": "stream",
     "text": [
      "Dimensions of 'array_of_integers' =  1\n",
      "Dimensions of 'sample_2d_array' =  2\n"
     ]
    }
   ],
   "source": [
    "array_of_integers = np.array([0,1,2,3,4,5,6,7,8,9])\n",
    "print(\"Dimensions of 'array_of_integers' = \", array_of_integers.ndim)\n",
    " \n",
    "sample_2d_array = np.array([[1,2,3],[4,5,6]]) \n",
    "print(\"Dimensions of 'sample_2d_array' = \", sample_2d_array.ndim)"
   ]
  },
  {
   "cell_type": "markdown",
   "id": "830a40da",
   "metadata": {},
   "source": [
    "# 3. ndarray.size\n",
    "this returns the total number of elements of the array"
   ]
  },
  {
   "cell_type": "code",
   "execution_count": 15,
   "id": "979395be",
   "metadata": {},
   "outputs": [
    {
     "name": "stdout",
     "output_type": "stream",
     "text": [
      "The total number of elements in our array 'array_of_integers' =  10\n",
      "The total number of elements in our array 'sample_2d_array' =  6\n"
     ]
    }
   ],
   "source": [
    "# Print the size of array\n",
    "array_of_integers = np.array([0,1,2,3,4,5,6,7,8,9])\n",
    "print(f\"The total number of elements in our array 'array_of_integers' =  {array_of_integers.size}\")\n",
    " \n",
    "sample_2d_array = np.array([[1,2,3],[4,5,6]])\n",
    "print(f\"The total number of elements in our array 'sample_2d_array' =  {sample_2d_array.size}\")"
   ]
  },
  {
   "cell_type": "markdown",
   "id": "d689e11b",
   "metadata": {},
   "source": [
    "# 4. ndarray.dtype\n",
    "this returns the data type of the array"
   ]
  },
  {
   "cell_type": "code",
   "execution_count": 16,
   "id": "ebf7643d",
   "metadata": {},
   "outputs": [
    {
     "name": "stdout",
     "output_type": "stream",
     "text": [
      "int32\n"
     ]
    }
   ],
   "source": [
    "my_array = np.array([1,2,3,4,5])\n",
    "print(my_array.dtype)"
   ]
  },
  {
   "cell_type": "code",
   "execution_count": 17,
   "id": "6e452236",
   "metadata": {},
   "outputs": [
    {
     "name": "stdout",
     "output_type": "stream",
     "text": [
      "<U32\n"
     ]
    }
   ],
   "source": [
    "# Print the dtype of another array\n",
    "my_array = np.array([1,2.0,3,4,5,'abc'])\n",
    "print(my_array.dtype)"
   ]
  },
  {
   "cell_type": "code",
   "execution_count": 18,
   "id": "b30a3dee",
   "metadata": {
    "scrolled": true
   },
   "outputs": [
    {
     "name": "stdout",
     "output_type": "stream",
     "text": [
      "<U3\n"
     ]
    }
   ],
   "source": [
    "my_array = np.array(['abd','bcd','abc'])\n",
    "print(my_array.dtype)"
   ]
  },
  {
   "cell_type": "markdown",
   "id": "ac830727",
   "metadata": {},
   "source": [
    "# 5. ndarray.astype\n",
    "this changes the datatype of an array\n"
   ]
  },
  {
   "cell_type": "code",
   "execution_count": 19,
   "id": "9f094dcb",
   "metadata": {},
   "outputs": [
    {
     "name": "stdout",
     "output_type": "stream",
     "text": [
      "[2 3 4]\n",
      "int32\n",
      "[2. 3. 4.]\n",
      "float64\n"
     ]
    }
   ],
   "source": [
    "# Create an array\n",
    "arravali = np.array([2,3,4])\n",
    "print(arravali)\n",
    "print(arravali.dtype)\n",
    " \n",
    "# Change the datatype of the array to float\n",
    "arravali_ = arravali.astype('float64')\n",
    "print(arravali_)\n",
    "print(arravali_.dtype)"
   ]
  },
  {
   "cell_type": "code",
   "execution_count": 20,
   "id": "3fe93902",
   "metadata": {},
   "outputs": [
    {
     "name": "stdout",
     "output_type": "stream",
     "text": [
      "Size of each element of list in bytes:  152\n",
      "Size of the whole list in bytes:  1520\n",
      "Size of each element of the Numpy array in bytes:  4\n",
      "Size of the whole Numpy array in bytes:  40\n"
     ]
    }
   ],
   "source": [
    "import numpy as np \n",
    "import sys     #This module provides access to some vaiables used or maintained by \n",
    "               #the interpreter and to functions that interact strongly with the interpretar\n",
    "  \n",
    "# declaring a list of 10 elements  \n",
    "S = [0,1,2,3,4,5,6,7,8,9]  \n",
    "print(\"Size of each element of list in bytes: \",sys.getsizeof(S)) \n",
    "print(\"Size of the whole list in bytes: \",sys.getsizeof(S)*len(S)) \n",
    "  \n",
    "# declaring a Numpy array of 10 elements  \n",
    "D= np.array([0,1,2,3,4,5,6,7,8,9] ) \n",
    "print(\"Size of each element of the Numpy array in bytes: \",D.itemsize) \n",
    "print(\"Size of the whole Numpy array in bytes: \",D.size*D.itemsize)"
   ]
  },
  {
   "cell_type": "code",
   "execution_count": 21,
   "id": "b49cc930",
   "metadata": {},
   "outputs": [
    {
     "name": "stdout",
     "output_type": "stream",
     "text": [
      "Time taken by Lists to perform multiplication: 0.008084535598754883 seconds\n",
      "Time taken by NumPy Arrays to perform multiplication: 0.0010023117065429688 seconds\n"
     ]
    }
   ],
   "source": [
    "import numpy as np\n",
    "import time \n",
    "   \n",
    "# size of arrays and lists \n",
    "size = 100000 \n",
    "   \n",
    "# declaring lists \n",
    "list1 = range(size) \n",
    "list2 = range(size) \n",
    "   \n",
    "# declaring arrays \n",
    "array1 = np.arange(size)   \n",
    "array2 = np.arange(size) \n",
    "   \n",
    "# capturing time before the multiplication of Python lists \n",
    "initialTime = time.time() \n",
    "  \n",
    "# multiplying  elements of both the lists and stored in another list \n",
    "resultantList = [(a * b) for a, b in zip(list1, list2)] \n",
    "   \n",
    "# calculating execution time \n",
    "print(\"Time taken by Lists to perform multiplication:\",  \n",
    "      (time.time() - initialTime), \n",
    "      \"seconds\") \n",
    "   \n",
    "# capturing time before the multiplication of Numpy arrays \n",
    "initialTime = time.time() \n",
    "  \n",
    "# multiplying  elements of both the Numpy arrays and stored in another Numpy array  \n",
    "resultantArray = array1 * array2 \n",
    "   \n",
    "# calculating execution time  \n",
    "print(\"Time taken by NumPy Arrays to perform multiplication:\", \n",
    "      (time.time() - initialTime), \n",
    "      \"seconds\")"
   ]
  },
  {
   "cell_type": "markdown",
   "id": "b374ab9b",
   "metadata": {},
   "source": [
    "# functionality"
   ]
  },
  {
   "cell_type": "code",
   "execution_count": 22,
   "id": "6abc84c4",
   "metadata": {},
   "outputs": [
    {
     "name": "stdout",
     "output_type": "stream",
     "text": [
      "Lists don't support list + int\n",
      "Modified Numpy array:  [5 6 7]\n"
     ]
    }
   ],
   "source": [
    "import numpy as np \n",
    "  \n",
    "# declaring a list \n",
    "ls =[1, 2, 3] \n",
    "  \n",
    "# converting the list into a Numpy array \n",
    "arr = np.array(ls) \n",
    "  \n",
    "try: \n",
    "    # adding 4 to each element of list \n",
    "    ls = ls + 4\n",
    "      \n",
    "except(TypeError): \n",
    "    print(\"Lists don't support list + int\") \n",
    "  \n",
    "# now on array \n",
    "try: \n",
    "    # adding 4 to each element of Numpy array \n",
    "    arr = arr + 4\n",
    "  \n",
    "    # printing the Numpy array \n",
    "    print(\"Modified Numpy array: \",arr) \n",
    "      \n",
    "except(TypeError): \n",
    "    print(\"Numpy arrays don't support list + int\")"
   ]
  },
  {
   "cell_type": "markdown",
   "id": "056b05a2",
   "metadata": {},
   "source": [
    "# different ways of creating nd array\n",
    "unitialized"
   ]
  },
  {
   "cell_type": "code",
   "execution_count": 23,
   "id": "3477c909",
   "metadata": {},
   "outputs": [
    {
     "name": "stdout",
     "output_type": "stream",
     "text": [
      "[[4128860 6029375 3801155]\n",
      " [5570652 6619251 7536754]\n",
      " [4718684 6029392 7340097]\n",
      " [4456560 7602273 6029409]\n",
      " [7274572 6357091     108]]\n"
     ]
    }
   ],
   "source": [
    "# Creating an uninitialized array of a specified shape\n",
    "uninitialized_array = np.empty([5,3],dtype=int)\n",
    "print(uninitialized_array)"
   ]
  },
  {
   "cell_type": "markdown",
   "id": "395cd165",
   "metadata": {},
   "source": [
    "# initialized with zeros"
   ]
  },
  {
   "cell_type": "code",
   "execution_count": 24,
   "id": "e9b5c68c",
   "metadata": {},
   "outputs": [
    {
     "name": "stdout",
     "output_type": "stream",
     "text": [
      "[[0. 0. 0.]\n",
      " [0. 0. 0.]\n",
      " [0. 0. 0.]]\n",
      "[[0 0 0]\n",
      " [0 0 0]\n",
      " [0 0 0]\n",
      " [0 0 0]]\n"
     ]
    }
   ],
   "source": [
    "# Intializing the array with zeros\n",
    "zeros_array = np.zeros((3,3)) # Default dtype = float\n",
    "another_zeros_array = np.zeros((4,3) , dtype=int)\n",
    "print(zeros_array)\n",
    "print(another_zeros_array)"
   ]
  },
  {
   "cell_type": "code",
   "execution_count": 26,
   "id": "d2b48c9f",
   "metadata": {},
   "outputs": [
    {
     "name": "stdout",
     "output_type": "stream",
     "text": [
      "[[1. 1. 1.]\n",
      " [1. 1. 1.]\n",
      " [1. 1. 1.]]\n"
     ]
    }
   ],
   "source": [
    "ones_array = np.ones((3,3)) # Default dtype = float\n",
    "another_ones_array = np.ones((2,3) , dtype=int)\n",
    "print(ones_array)"
   ]
  },
  {
   "cell_type": "code",
   "execution_count": 27,
   "id": "99b51c1a",
   "metadata": {},
   "outputs": [
    {
     "data": {
      "text/plain": [
       "array([[1., 1., 1.],\n",
       "       [1., 1., 1.],\n",
       "       [1., 1., 1.],\n",
       "       [1., 1., 1.]])"
      ]
     },
     "execution_count": 27,
     "metadata": {},
     "output_type": "execute_result"
    }
   ],
   "source": [
    "bunch_of_ones = np.ones((4,3))\n",
    "bunch_of_ones"
   ]
  },
  {
   "cell_type": "code",
   "execution_count": 28,
   "id": "e1000f8a",
   "metadata": {},
   "outputs": [
    {
     "data": {
      "text/plain": [
       "array([[1., 1., 1., 1., 1., 1.],\n",
       "       [1., 1., 1., 1., 1., 1.]])"
      ]
     },
     "execution_count": 28,
     "metadata": {},
     "output_type": "execute_result"
    }
   ],
   "source": [
    "# Trying to change the shape of our array\n",
    "bunch_of_ones.shape = (2,6)\n",
    "bunch_of_ones"
   ]
  },
  {
   "cell_type": "markdown",
   "id": "81fee049",
   "metadata": {},
   "source": [
    "# Array from numerical ranges"
   ]
  },
  {
   "cell_type": "code",
   "execution_count": 29,
   "id": "b199bf58",
   "metadata": {},
   "outputs": [
    {
     "data": {
      "text/plain": [
       "array([0, 1, 2, 3, 4])"
      ]
     },
     "execution_count": 29,
     "metadata": {},
     "output_type": "execute_result"
    }
   ],
   "source": [
    "array_with_range = np.arange(5)\n",
    "array_with_range"
   ]
  },
  {
   "cell_type": "code",
   "execution_count": 30,
   "id": "17f0d8a9",
   "metadata": {},
   "outputs": [
    {
     "data": {
      "text/plain": [
       "array([10, 12, 14, 16, 18])"
      ]
     },
     "execution_count": 30,
     "metadata": {},
     "output_type": "execute_result"
    }
   ],
   "source": [
    "another_array_with_range = np.arange(10,20,2) \n",
    "another_array_with_range"
   ]
  },
  {
   "cell_type": "code",
   "execution_count": 31,
   "id": "e50a71ad",
   "metadata": {},
   "outputs": [
    {
     "data": {
      "text/plain": [
       "(array([10.        , 11.11111111, 12.22222222, 13.33333333, 14.44444444,\n",
       "        15.55555556, 16.66666667, 17.77777778, 18.88888889]),\n",
       " 1.1111111111111112)"
      ]
     },
     "execution_count": 31,
     "metadata": {},
     "output_type": "execute_result"
    }
   ],
   "source": [
    "# to get the number of evenly spaced values between intervals\n",
    "# Parameters for the function - np.linespace(start, stop, num, endpoint, retstep, dtype)\n",
    "# dtype is that of output array\n",
    "linearly_spaced_values = np.linspace(10,20,9 , endpoint = False, retstep = True) \n",
    "linearly_spaced_values"
   ]
  },
  {
   "cell_type": "markdown",
   "id": "e903dee4",
   "metadata": {},
   "source": [
    "# Array from random numbers"
   ]
  },
  {
   "cell_type": "code",
   "execution_count": 32,
   "id": "91c846b5",
   "metadata": {},
   "outputs": [
    {
     "name": "stdout",
     "output_type": "stream",
     "text": [
      "[[0.26210034 0.86923986 0.13792793]\n",
      " [0.25710404 0.35975864 0.70605564]\n",
      " [0.97928956 0.61947314 0.7434417 ]\n",
      " [0.52462689 0.45126149 0.54954417]]\n"
     ]
    }
   ],
   "source": [
    "random_array = np.random.random((4,3))\n",
    "print(random_array)"
   ]
  },
  {
   "cell_type": "code",
   "execution_count": 33,
   "id": "939a9393",
   "metadata": {},
   "outputs": [
    {
     "name": "stdout",
     "output_type": "stream",
     "text": [
      "[[[4 4 4 2]\n",
      "  [4 1 1 3]\n",
      "  [4 4 3 1]]\n",
      "\n",
      " [[2 3 0 3]\n",
      "  [4 2 2 1]\n",
      "  [4 3 3 4]]]\n"
     ]
    }
   ],
   "source": [
    "random_integral_array = np.random.randint(0,5,size=(2,3,4))\n",
    "print(random_integral_array)"
   ]
  },
  {
   "cell_type": "code",
   "execution_count": 34,
   "id": "a20bc4c9",
   "metadata": {},
   "outputs": [
    {
     "name": "stdout",
     "output_type": "stream",
     "text": [
      "[[30 30 30]\n",
      " [30 30 30]\n",
      " [30 30 30]]\n"
     ]
    }
   ],
   "source": [
    "a = np.full((3,3),30)\n",
    "print(a)"
   ]
  },
  {
   "cell_type": "code",
   "execution_count": 35,
   "id": "216604db",
   "metadata": {},
   "outputs": [
    {
     "name": "stdout",
     "output_type": "stream",
     "text": [
      "[[30. 30. 30.]\n",
      " [30. 30. 30.]\n",
      " [30. 30. 30.]]\n"
     ]
    }
   ],
   "source": [
    "a = np.ones((3,3))*30\n",
    "print(a)"
   ]
  },
  {
   "cell_type": "code",
   "execution_count": 36,
   "id": "b1a3a5b6",
   "metadata": {},
   "outputs": [
    {
     "name": "stdout",
     "output_type": "stream",
     "text": [
      "[[1. 0. 0. 0.]\n",
      " [0. 1. 0. 0.]\n",
      " [0. 0. 1. 0.]\n",
      " [0. 0. 0. 1.]]\n"
     ]
    }
   ],
   "source": [
    "a = np.identity(4)\n",
    "print(a)"
   ]
  },
  {
   "cell_type": "markdown",
   "id": "62bb8f0b",
   "metadata": {},
   "source": [
    "# creating nd array with existing data"
   ]
  },
  {
   "cell_type": "code",
   "execution_count": 37,
   "id": "593261cd",
   "metadata": {},
   "outputs": [
    {
     "data": {
      "text/plain": [
       "array([1, 2, 3])"
      ]
     },
     "execution_count": 37,
     "metadata": {},
     "output_type": "execute_result"
    }
   ],
   "source": [
    "# convert tuple to ndarray\n",
    "typical_tuple = (1,2,3) \n",
    "corresponding_array = np.asarray(typical_tuple) \n",
    "corresponding_array"
   ]
  },
  {
   "cell_type": "code",
   "execution_count": 38,
   "id": "db359969",
   "metadata": {},
   "outputs": [
    {
     "data": {
      "text/plain": [
       "5"
      ]
     },
     "execution_count": 38,
     "metadata": {},
     "output_type": "execute_result"
    }
   ],
   "source": [
    "a = np.arange(10) \n",
    "a[5]"
   ]
  },
  {
   "cell_type": "code",
   "execution_count": 39,
   "id": "98e99f95",
   "metadata": {},
   "outputs": [
    {
     "data": {
      "text/plain": [
       "array([2, 3, 4])"
      ]
     },
     "execution_count": 39,
     "metadata": {},
     "output_type": "execute_result"
    }
   ],
   "source": [
    "a = np.arange(10) \n",
    "a[2:5]"
   ]
  },
  {
   "cell_type": "code",
   "execution_count": 40,
   "id": "63731a72",
   "metadata": {},
   "outputs": [
    {
     "data": {
      "text/plain": [
       "array([0.90715898, 0.52833274, 0.19955769, 0.82292364, 0.13551943,\n",
       "       0.92618109, 0.66867115, 0.70355647, 0.99706073, 0.44958962])"
      ]
     },
     "execution_count": 40,
     "metadata": {},
     "output_type": "execute_result"
    }
   ],
   "source": [
    "# slice items between indexes in steps\n",
    "a = np.random.random(10) \n",
    "a"
   ]
  },
  {
   "cell_type": "code",
   "execution_count": 41,
   "id": "62f8471e",
   "metadata": {},
   "outputs": [
    {
     "ename": "SyntaxError",
     "evalue": "unexpected EOF while parsing (2946733185.py, line 1)",
     "output_type": "error",
     "traceback": [
      "\u001b[1;36m  File \u001b[1;32m\"C:\\Users\\HP\\AppData\\Local\\Temp\\ipykernel_22788\\2946733185.py\"\u001b[1;36m, line \u001b[1;32m1\u001b[0m\n\u001b[1;33m    a[::2]\\\u001b[0m\n\u001b[1;37m           ^\u001b[0m\n\u001b[1;31mSyntaxError\u001b[0m\u001b[1;31m:\u001b[0m unexpected EOF while parsing\n"
     ]
    }
   ],
   "source": [
    "a[::2]\\"
   ]
  },
  {
   "cell_type": "code",
   "execution_count": 42,
   "id": "481e76c9",
   "metadata": {},
   "outputs": [
    {
     "name": "stdout",
     "output_type": "stream",
     "text": [
      "[0 2 4]\n",
      "[1 3 5 7 9]\n",
      "[1 2 3 4 5]\n"
     ]
    }
   ],
   "source": [
    "a = np.arange(10)\n",
    "print(a[:6:2]) # starting index is unspecified (default = 0)\n",
    "print(a[1::2]) # ending index is unspecified (default = array size)\n",
    "print(a[1:6:]) # steps is unspecified (default = 1)"
   ]
  },
  {
   "cell_type": "code",
   "execution_count": 43,
   "id": "95f3ecb0",
   "metadata": {},
   "outputs": [
    {
     "name": "stdout",
     "output_type": "stream",
     "text": [
      "6\n"
     ]
    }
   ],
   "source": [
    "# retrieving elements from a 2-D array\n",
    "a = np.array([[1,2,3],[4,5,6]])\n",
    "print(a[1,2])\n",
    "# print(a[1,2])"
   ]
  },
  {
   "cell_type": "code",
   "execution_count": 44,
   "id": "1910ec7b",
   "metadata": {},
   "outputs": [
    {
     "name": "stdout",
     "output_type": "stream",
     "text": [
      "[[1 2 3]\n",
      " [4 5 6]\n",
      " [7 8 9]]\n",
      "[[1 2 3]\n",
      " [4 5 6]]\n",
      "[[2 3]\n",
      " [5 6]]\n"
     ]
    }
   ],
   "source": [
    "# getting the entire array\n",
    "a = np.array([[1,2,3],[4,5,6],[7,8,9]])\n",
    "print(a)\n",
    "print(a[0:2]) \n",
    "print(a[0:2,-2:])"
   ]
  },
  {
   "cell_type": "code",
   "execution_count": 45,
   "id": "a6a43b81",
   "metadata": {},
   "outputs": [
    {
     "name": "stdout",
     "output_type": "stream",
     "text": [
      "[[1 2 3]]\n"
     ]
    }
   ],
   "source": [
    "a = np.array([[1,2,3],[4,5,6],[7,8,9]])\n",
    "print(a[0:1,:])"
   ]
  },
  {
   "cell_type": "code",
   "execution_count": 46,
   "id": "0953a765",
   "metadata": {},
   "outputs": [
    {
     "name": "stdout",
     "output_type": "stream",
     "text": [
      "[[2]]\n"
     ]
    }
   ],
   "source": [
    "a = np.array([[1,2,3],[4,5,6],[7,8,9]])\n",
    "print(a[0:1,1:2])"
   ]
  },
  {
   "cell_type": "code",
   "execution_count": 47,
   "id": "38041562",
   "metadata": {},
   "outputs": [
    {
     "name": "stdout",
     "output_type": "stream",
     "text": [
      "[[1 2 3]\n",
      " [4 5 6]\n",
      " [7 8 9]]\n",
      "[[1]\n",
      " [4]\n",
      " [7]]\n"
     ]
    }
   ],
   "source": [
    "a = np.array([[1,2,3],[4,5,6],[7,8,9]])\n",
    "print(a)\n",
    "print(a[:,0:1])"
   ]
  },
  {
   "cell_type": "code",
   "execution_count": 48,
   "id": "f24b2204",
   "metadata": {},
   "outputs": [
    {
     "name": "stdout",
     "output_type": "stream",
     "text": [
      "[[1]\n",
      " [7]]\n"
     ]
    }
   ],
   "source": [
    "a = np.array([[1,2,3],[4,5,6],[7,8,9]])\n",
    "print(a[::2,0:1])"
   ]
  },
  {
   "cell_type": "code",
   "execution_count": 49,
   "id": "95510155",
   "metadata": {},
   "outputs": [
    {
     "name": "stdout",
     "output_type": "stream",
     "text": [
      "The defined array is \n",
      "[[44 21]\n",
      " [10 42]\n",
      " [44 17]\n",
      " [35 10]\n",
      " [13 33]\n",
      " [23 36]\n",
      " [40 31]\n",
      " [30 40]]\n",
      " \n",
      " The shape of the array is (8, 2)\n"
     ]
    }
   ],
   "source": [
    "# Create a 2 D Array\n",
    "arravali = np.array(np.random.randint(10,45,(8,2)))\n",
    "print(f\"The defined array is \\n{arravali}\")\n",
    "print(f\" \\n The shape of the array is {arravali.shape}\")"
   ]
  },
  {
   "cell_type": "code",
   "execution_count": 50,
   "id": "f92faec6",
   "metadata": {},
   "outputs": [
    {
     "name": "stdout",
     "output_type": "stream",
     "text": [
      " The transpose of the array is \n",
      "[[44 10 44 35 13 23 40 30]\n",
      " [21 42 17 10 33 36 31 40]]\n",
      " \n",
      " The shape of the array is (2, 8)\n"
     ]
    }
   ],
   "source": [
    "nilgiri =np.transpose(arravali)\n",
    "print(f\" The transpose of the array is \\n{nilgiri}\")\n",
    "print(f\" \\n The shape of the array is {nilgiri.shape}\")"
   ]
  },
  {
   "cell_type": "code",
   "execution_count": 51,
   "id": "0dc3eb91",
   "metadata": {},
   "outputs": [
    {
     "name": "stdout",
     "output_type": "stream",
     "text": [
      "The defined array is \n",
      "[[[28 17 22 11]\n",
      "  [38 18 38 19]]\n",
      "\n",
      " [[33 44 30 22]\n",
      "  [13 44 28 20]]\n",
      "\n",
      " [[24 38 17 39]\n",
      "  [13 37 11 21]]]\n",
      " \n",
      " The shape of the array is (3, 2, 4)\n"
     ]
    }
   ],
   "source": [
    "# 3D Array\n",
    "random_3d_array = np.array(np.random.randint(10,45,(3,2,4)))\n",
    "print(f\"The defined array is \\n{random_3d_array}\")\n",
    "print(f\" \\n The shape of the array is {random_3d_array.shape}\")"
   ]
  },
  {
   "cell_type": "code",
   "execution_count": 52,
   "id": "537c4ef4",
   "metadata": {},
   "outputs": [
    {
     "name": "stdout",
     "output_type": "stream",
     "text": [
      " The transpose of the array is \n",
      "[[[28 33 24]\n",
      "  [38 13 13]]\n",
      "\n",
      " [[17 44 38]\n",
      "  [18 44 37]]\n",
      "\n",
      " [[22 30 17]\n",
      "  [38 28 11]]\n",
      "\n",
      " [[11 22 39]\n",
      "  [19 20 21]]]\n",
      " \n",
      " The shape of the array is (4, 2, 3)\n"
     ]
    }
   ],
   "source": [
    "# Storing the transpose of the created 3d array\n",
    "transposed_3d_array =np.transpose(random_3d_array)\n",
    "print(f\" The transpose of the array is \\n{transposed_3d_array}\")\n",
    "print(f\" \\n The shape of the array is {transposed_3d_array.shape}\")"
   ]
  },
  {
   "cell_type": "code",
   "execution_count": 53,
   "id": "3072a172",
   "metadata": {},
   "outputs": [
    {
     "name": "stdout",
     "output_type": "stream",
     "text": [
      "The defined array is \n",
      "[[26 41 40 19 15 23 33 40]\n",
      " [30 26 37 10 20 30 23 33]\n",
      " [12 14 32 30 38 38 41 39]]\n",
      " \n",
      " The shape of the array is (3, 8)\n"
     ]
    }
   ],
   "source": [
    "random_cohort = np.array(np.random.randint(10,45,(3,8))) # 2D\n",
    "print(f\"The defined array is \\n{random_cohort}\")\n",
    "print(f\" \\n The shape of the array is {random_cohort.shape}\")"
   ]
  },
  {
   "cell_type": "code",
   "execution_count": 54,
   "id": "b3758476",
   "metadata": {},
   "outputs": [
    {
     "name": "stdout",
     "output_type": "stream",
     "text": [
      "The reshaped array is \n",
      "[[[26 41 40]\n",
      "  [19 15 23]\n",
      "  [33 40 30]\n",
      "  [26 37 10]]\n",
      "\n",
      " [[20 30 23]\n",
      "  [33 12 14]\n",
      "  [32 30 38]\n",
      "  [38 41 39]]]\n",
      " \n",
      " The shape of the array is (2, 4, 3)\n"
     ]
    }
   ],
   "source": [
    "# Now we can reshape this to 1-D,2-D or 3-D array\n",
    "new_shape = (2,4,3)\n",
    "reshaped_random_cohort = np.reshape(random_cohort,new_shape)\n",
    "print(f\"The reshaped array is \\n{reshaped_random_cohort}\")\n",
    "print(f\" \\n The shape of the array is {reshaped_random_cohort.shape}\")"
   ]
  },
  {
   "cell_type": "code",
   "execution_count": 55,
   "id": "f28df12d",
   "metadata": {},
   "outputs": [
    {
     "name": "stdout",
     "output_type": "stream",
     "text": [
      "The defined array is \n",
      "[[[42 32]\n",
      "  [28 16]\n",
      "  [13 12]\n",
      "  [35 29]\n",
      "  [12 21]\n",
      "  [12 25]]\n",
      "\n",
      " [[16 13]\n",
      "  [38 20]\n",
      "  [38 24]\n",
      "  [28 37]\n",
      "  [41 26]\n",
      "  [11 26]]\n",
      "\n",
      " [[13 24]\n",
      "  [20 38]\n",
      "  [23 28]\n",
      "  [19 21]\n",
      "  [43 16]\n",
      "  [10 15]]]\n",
      " \n",
      " The shape of the array is (3, 6, 2)\n"
     ]
    }
   ],
   "source": [
    "# Create a three-dimensional array\n",
    "random_3D_cohort = np.array(np.random.randint(10,45,(3,6,2))) \n",
    "print(f\"The defined array is \\n{random_3D_cohort}\")\n",
    "print(f\" \\n The shape of the array is {random_3D_cohort.shape}\")"
   ]
  },
  {
   "cell_type": "code",
   "execution_count": 56,
   "id": "4b1e7983",
   "metadata": {},
   "outputs": [
    {
     "name": "stdout",
     "output_type": "stream",
     "text": [
      "The defined array is \n",
      "[[[36 38 17 42 44 22]\n",
      "  [40 23 40 20 29 37]\n",
      "  [17 29 41 21 25 43]\n",
      "  [14 23 13 27 43 20]]\n",
      "\n",
      " [[13 36 40 23 21 19]\n",
      "  [35 24 42 43 44 36]\n",
      "  [26 30 30 32 25 35]\n",
      "  [42 12 15 25 25 41]]]\n",
      " \n",
      " The shape of the array is (2, 4, 6)\n"
     ]
    }
   ],
   "source": [
    "# Intialize a 3D array\n",
    "random_3D_cohort = np.array(np.random.randint(10,45,(2,4,6))) \n",
    "print(f\"The defined array is \\n{random_3D_cohort}\")\n",
    "print(f\" \\n The shape of the array is {random_3D_cohort.shape}\")"
   ]
  },
  {
   "cell_type": "code",
   "execution_count": 57,
   "id": "ed943e00",
   "metadata": {},
   "outputs": [
    {
     "name": "stdout",
     "output_type": "stream",
     "text": [
      "The resized array is \n",
      "[[[36 38 17 42 44 22]\n",
      "  [40 23 40 20 29 37]\n",
      "  [17 29 41 21 25 43]]\n",
      "\n",
      " [[14 23 13 27 43 20]\n",
      "  [13 36 40 23 21 19]\n",
      "  [35 24 42 43 44 36]]\n",
      "\n",
      " [[26 30 30 32 25 35]\n",
      "  [42 12 15 25 25 41]\n",
      "  [36 38 17 42 44 22]]\n",
      "\n",
      " [[40 23 40 20 29 37]\n",
      "  [17 29 41 21 25 43]\n",
      "  [14 23 13 27 43 20]]]\n",
      " \n",
      " The shape of the array is (4, 3, 6)\n"
     ]
    }
   ],
   "source": [
    "# Resize the created 3D array\n",
    "new_shape = (4,3,6)\n",
    "resized_random_3D_cohort = np.resize(random_3D_cohort,new_shape)\n",
    "print(f\"The resized array is \\n{resized_random_3D_cohort}\")\n",
    "print(f\" \\n The shape of the array is {resized_random_3D_cohort.shape}\")"
   ]
  },
  {
   "cell_type": "code",
   "execution_count": 58,
   "id": "bb39a21f",
   "metadata": {},
   "outputs": [
    {
     "name": "stdout",
     "output_type": "stream",
     "text": [
      "The defined array is \n",
      "[[[31 21 39 43 37 19]\n",
      "  [42 36 30 41 31 37]\n",
      "  [36 26 32 38 15 35]\n",
      "  [10 33 40 30 33 15]]\n",
      "\n",
      " [[30 23 22 30 26 21]\n",
      "  [15 34 30 17 29 42]\n",
      "  [12 43 35 25 24 23]\n",
      "  [33 26 22 25 42 43]]]\n",
      " \n",
      " The shape of the array is (2, 4, 6)\n"
     ]
    }
   ],
   "source": [
    "# Intialize a 3D array\n",
    "random_3D_cohort = np.array(np.random.randint(10,45,(2,4,6))) \n",
    "print(f\"The defined array is \\n{random_3D_cohort}\")\n",
    "print(f\" \\n The shape of the array is {random_3D_cohort.shape}\")"
   ]
  },
  {
   "cell_type": "code",
   "execution_count": 59,
   "id": "20d41e70",
   "metadata": {},
   "outputs": [
    {
     "data": {
      "text/plain": [
       "array([31, 21, 39, 43, 37, 19, 42, 36, 30, 41, 31, 37, 36, 26, 32, 38, 15,\n",
       "       35, 10, 33, 40, 30, 33, 15, 30, 23, 22, 30, 26, 21, 15, 34, 30, 17,\n",
       "       29, 42, 12, 43, 35, 25, 24, 23, 33, 26, 22, 25, 42, 43])"
      ]
     },
     "execution_count": 59,
     "metadata": {},
     "output_type": "execute_result"
    }
   ],
   "source": [
    "# Flatten the 3D array\n",
    "random_3D_cohort.flatten()"
   ]
  },
  {
   "cell_type": "code",
   "execution_count": 60,
   "id": "761a227b",
   "metadata": {},
   "outputs": [
    {
     "data": {
      "text/plain": [
       "array([31, 30, 42, 15, 36, 12, 10, 33, 21, 23, 36, 34, 26, 43, 33, 26, 39,\n",
       "       22, 30, 30, 32, 35, 40, 22, 43, 30, 41, 17, 38, 25, 30, 25, 37, 26,\n",
       "       31, 29, 15, 24, 33, 42, 19, 21, 37, 42, 35, 23, 15, 43])"
      ]
     },
     "execution_count": 60,
     "metadata": {},
     "output_type": "execute_result"
    }
   ],
   "source": [
    "# Flattens the array in row-major order with 'C'\n",
    "random_3D_cohort.flatten(order='F')"
   ]
  },
  {
   "cell_type": "code",
   "execution_count": null,
   "id": "84ce7bda",
   "metadata": {},
   "outputs": [],
   "source": []
  }
 ],
 "metadata": {
  "kernelspec": {
   "display_name": "Python 3 (ipykernel)",
   "language": "python",
   "name": "python3"
  },
  "language_info": {
   "codemirror_mode": {
    "name": "ipython",
    "version": 3
   },
   "file_extension": ".py",
   "mimetype": "text/x-python",
   "name": "python",
   "nbconvert_exporter": "python",
   "pygments_lexer": "ipython3",
   "version": "3.9.13"
  }
 },
 "nbformat": 4,
 "nbformat_minor": 5
}
